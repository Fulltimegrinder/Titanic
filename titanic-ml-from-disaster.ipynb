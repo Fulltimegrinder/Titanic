{
 "cells": [
  {
   "cell_type": "markdown",
   "execution_count": null,
   "metadata": {},
   "source": [
    "# Titanic: Machine Learning from Disaster "
   ]
  },
  {
   "cell_type": "markdown",
   "execution_count": null,
   "metadata": {},
   "source": [
    "# Introduction\n",
    "\n",
    "The sinking of the Titanic is one of the most infamous shipwrecks in history.\n",
    "\n",
    "On April 15, 1912, during her maiden voyage, the widely considered “unsinkable” RMS Titanic sank after colliding with an iceberg. Unfortunately, there weren’t enough lifeboats for everyone onboard, resulting in the death of 1502 out of 2224 passengers and crew.\n",
    "\n",
    "While there was some element of luck involved in surviving, it seems some groups of people were more likely to survive than others.\n",
    "\n",
    "In this challenge, we ask you to build a predictive model that answers the question: “what sorts of people were more likely to survive?” using passenger data (ie name, age, gender, socio-economic class, etc)."
   ]
  },
  {
   "cell_type": "markdown",
   "execution_count": null,
   "metadata": {},
   "source": [
    "**Import libraries:**"
   ]
  },
  {
   "cell_type": "code",
   "execution_count": 1,
   "metadata": {
    "_cell_guid": "b1076dfc-b9ad-4769-8c92-a6c4dae69d19",
    "_uuid": "8f2839f25d086af736a60e9eeb907d3b93b6e0e5",
    "scrolled": false
   },
   "outputs": [],
   "source": [
    "import numpy as np\n",
    "import pandas as pd\n",
    "import matplotlib.pyplot as plt\n",
    "import seaborn as sns\n",
    "from sklearn.model_selection import train_test_split\n",
    "from sklearn.linear_model import LogisticRegressionCV\n",
    "from sklearn.metrics import accuracy_score\n",
    "from sklearn.ensemble import RandomForestClassifier, GradientBoostingClassifier\n",
    "from sklearn.naive_bayes import GaussianNB\n",
    "from sklearn import svm\n",
    "from sklearn.metrics import accuracy_score\n",
    "from sklearn.preprocessing import MinMaxScaler, PolynomialFeatures, LabelEncoder, OneHotEncoder\n",
    "from pandas.plotting import register_matplotlib_converters\n",
    "%matplotlib inline\n",
    "\n",
    "register_matplotlib_converters()\n",
    "pd.set_option('display.max_columns', 2500, 'display.max_rows', 2500, 'display.width', None)"
   ]
  },
  {
   "cell_type": "markdown",
   "execution_count": null,
   "metadata": {},
   "source": [
    "**Read the data:**"
   ]
  },
  {
   "cell_type": "code",
   "execution_count": 2,
   "metadata": {
    "scrolled": false
   },
   "outputs": [],
   "source": [
    "train = pd.read_csv('/kaggle/input/titanic/train.csv')\n",
    "test = pd.read_csv('/kaggle/input/titanic/test.csv')\n",
    "train.name = 'Training set'\n",
    "test.name = 'Test set'"
   ]
  },
  {
   "cell_type": "markdown",
   "execution_count": null,
   "metadata": {},
   "source": [
    "**Define functions:**"
   ]
  },
  {
   "cell_type": "code",
   "execution_count": 3,
   "metadata": {},
   "outputs": [],
   "source": [
    "def distribution(value):\n",
    "    df = pd.DataFrame({value: train[value].value_counts().index, 'Number': train[value].value_counts().values})\n",
    "    if df[value].dtypes != 'object':\n",
    "        df[value] = df[value].round()\n",
    "        df = df.sort_values(value)\n",
    "        df = df.groupby([value])['Number'].sum().reset_index(drop=False)\n",
    "    if value == 'Embarked':\n",
    "        df[value] = df[value].replace('S', 'Southampton').replace('C', 'Cherbourg').replace('Q', 'Queenstown')\n",
    "\n",
    "    plt.figure()\n",
    "    plt.style.use('seaborn-darkgrid')\n",
    "    plt.bar(df[value], df['Number'])\n",
    "    plt.title('Distribution of {}'.format(value), fontsize=12)\n",
    "    plt.xlabel(value, fontsize=12), plt.ylabel('Number of passengers', fontsize=12)\n",
    "    plt.yticks(fontsize=12)\n",
    "    if value == 'Pclass':\n",
    "        plt.xticks([1, 2, 3])\n",
    "    plt.show()\n",
    "\n",
    "def missing_after(value):\n",
    "    for column in value:\n",
    "        print('{}:'.format(column), value[column].isna().sum())"
   ]
  },
  {
   "cell_type": "markdown",
   "execution_count": null,
   "metadata": {},
   "source": [
    "# 1. Exploratory Data Analysis"
   ]
  },
  {
   "cell_type": "markdown",
   "execution_count": null,
   "metadata": {},
   "source": [
    "## 1.1 Overview"
   ]
  },
  {
   "cell_type": "code",
   "execution_count": 4,
   "metadata": {
    "scrolled": true
   },
   "outputs": [
    {
     "name": "stdout",
     "output_type": "stream",
     "text": [
      "Training set: 891 observations\n",
      "Test set: 418 observations\n",
      "\n",
      "Columns: ['PassengerId', 'Survived', 'Pclass', 'Name', 'Sex', 'Age', 'SibSp', 'Parch', 'Ticket', 'Fare', 'Cabin', 'Embarked']\n"
     ]
    }
   ],
   "source": [
    "print('Training set: {} observations'.format(len(train)))\n",
    "print('Test set: {} observations'.format(len(test)))\n",
    "print('\\nColumns:', list(train.columns))"
   ]
  },
  {
   "cell_type": "markdown",
   "execution_count": null,
   "metadata": {},
   "source": [
    "## 1.2 Descriptive statistics"
   ]
  },
  {
   "cell_type": "code",
   "execution_count": 5,
   "metadata": {},
   "outputs": [
    {
     "data": {
      "text/html": [
       "<div>\n",
       "<style scoped>\n",
       "    .dataframe tbody tr th:only-of-type {\n",
       "        vertical-align: middle;\n",
       "    }\n",
       "\n",
       "    .dataframe tbody tr th {\n",
       "        vertical-align: top;\n",
       "    }\n",
       "\n",
       "    .dataframe thead th {\n",
       "        text-align: right;\n",
       "    }\n",
       "</style>\n",
       "<table border=\"1\" class=\"dataframe\">\n",
       "  <thead>\n",
       "    <tr style=\"text-align: right;\">\n",
       "      <th></th>\n",
       "      <th>PassengerId</th>\n",
       "      <th>Survived</th>\n",
       "      <th>Pclass</th>\n",
       "      <th>Age</th>\n",
       "      <th>SibSp</th>\n",
       "      <th>Parch</th>\n",
       "      <th>Fare</th>\n",
       "    </tr>\n",
       "  </thead>\n",
       "  <tbody>\n",
       "    <tr>\n",
       "      <th>count</th>\n",
       "      <td>891.000000</td>\n",
       "      <td>891.000000</td>\n",
       "      <td>891.000000</td>\n",
       "      <td>714.000000</td>\n",
       "      <td>891.000000</td>\n",
       "      <td>891.000000</td>\n",
       "      <td>891.000000</td>\n",
       "    </tr>\n",
       "    <tr>\n",
       "      <th>mean</th>\n",
       "      <td>446.000000</td>\n",
       "      <td>0.383838</td>\n",
       "      <td>2.308642</td>\n",
       "      <td>29.699118</td>\n",
       "      <td>0.523008</td>\n",
       "      <td>0.381594</td>\n",
       "      <td>32.204208</td>\n",
       "    </tr>\n",
       "    <tr>\n",
       "      <th>std</th>\n",
       "      <td>257.353842</td>\n",
       "      <td>0.486592</td>\n",
       "      <td>0.836071</td>\n",
       "      <td>14.526497</td>\n",
       "      <td>1.102743</td>\n",
       "      <td>0.806057</td>\n",
       "      <td>49.693429</td>\n",
       "    </tr>\n",
       "    <tr>\n",
       "      <th>min</th>\n",
       "      <td>1.000000</td>\n",
       "      <td>0.000000</td>\n",
       "      <td>1.000000</td>\n",
       "      <td>0.420000</td>\n",
       "      <td>0.000000</td>\n",
       "      <td>0.000000</td>\n",
       "      <td>0.000000</td>\n",
       "    </tr>\n",
       "    <tr>\n",
       "      <th>25%</th>\n",
       "      <td>223.500000</td>\n",
       "      <td>0.000000</td>\n",
       "      <td>2.000000</td>\n",
       "      <td>20.125000</td>\n",
       "      <td>0.000000</td>\n",
       "      <td>0.000000</td>\n",
       "      <td>7.910400</td>\n",
       "    </tr>\n",
       "    <tr>\n",
       "      <th>50%</th>\n",
       "      <td>446.000000</td>\n",
       "      <td>0.000000</td>\n",
       "      <td>3.000000</td>\n",
       "      <td>28.000000</td>\n",
       "      <td>0.000000</td>\n",
       "      <td>0.000000</td>\n",
       "      <td>14.454200</td>\n",
       "    </tr>\n",
       "    <tr>\n",
       "      <th>75%</th>\n",
       "      <td>668.500000</td>\n",
       "      <td>1.000000</td>\n",
       "      <td>3.000000</td>\n",
       "      <td>38.000000</td>\n",
       "      <td>1.000000</td>\n",
       "      <td>0.000000</td>\n",
       "      <td>31.000000</td>\n",
       "    </tr>\n",
       "    <tr>\n",
       "      <th>max</th>\n",
       "      <td>891.000000</td>\n",
       "      <td>1.000000</td>\n",
       "      <td>3.000000</td>\n",
       "      <td>80.000000</td>\n",
       "      <td>8.000000</td>\n",
       "      <td>6.000000</td>\n",
       "      <td>512.329200</td>\n",
       "    </tr>\n",
       "  </tbody>\n",
       "</table>\n",
       "</div>"
      ],
      "text/plain": [
       "       PassengerId    Survived      Pclass         Age       SibSp  \\\n",
       "count   891.000000  891.000000  891.000000  714.000000  891.000000   \n",
       "mean    446.000000    0.383838    2.308642   29.699118    0.523008   \n",
       "std     257.353842    0.486592    0.836071   14.526497    1.102743   \n",
       "min       1.000000    0.000000    1.000000    0.420000    0.000000   \n",
       "25%     223.500000    0.000000    2.000000   20.125000    0.000000   \n",
       "50%     446.000000    0.000000    3.000000   28.000000    0.000000   \n",
       "75%     668.500000    1.000000    3.000000   38.000000    1.000000   \n",
       "max     891.000000    1.000000    3.000000   80.000000    8.000000   \n",
       "\n",
       "            Parch        Fare  \n",
       "count  891.000000  891.000000  \n",
       "mean     0.381594   32.204208  \n",
       "std      0.806057   49.693429  \n",
       "min      0.000000    0.000000  \n",
       "25%      0.000000    7.910400  \n",
       "50%      0.000000   14.454200  \n",
       "75%      0.000000   31.000000  \n",
       "max      6.000000  512.329200  "
      ]
     },
     "execution_count": 5,
     "metadata": {},
     "output_type": "execute_result"
    }
   ],
   "source": [
    "train.describe()"
   ]
  },
  {
   "cell_type": "markdown",
   "execution_count": null,
   "metadata": {},
   "source": [
    "## 1.3 Features"
   ]
  },
  {
   "cell_type": "code",
   "execution_count": 6,
   "metadata": {},
   "outputs": [
    {
     "name": "stdout",
     "output_type": "stream",
     "text": [
      "Missing values initially:\n",
      "\n",
      "Training set:\n",
      "PassengerId: 0\n",
      "Survived: 0\n",
      "Pclass: 0\n",
      "Name: 0\n",
      "Sex: 0\n",
      "Age: 177\n",
      "SibSp: 0\n",
      "Parch: 0\n",
      "Ticket: 0\n",
      "Fare: 0\n",
      "Cabin: 687\n",
      "Embarked: 2\n",
      "\n",
      "Test set:\n",
      "PassengerId: 0\n",
      "Pclass: 0\n",
      "Name: 0\n",
      "Sex: 0\n",
      "Age: 86\n",
      "SibSp: 0\n",
      "Parch: 0\n",
      "Ticket: 0\n",
      "Fare: 1\n",
      "Cabin: 327\n",
      "Embarked: 0\n"
     ]
    }
   ],
   "source": [
    "print('Missing values initially:')\n",
    "for dataset in (train, test):\n",
    "    print('\\n{}:'.format(dataset.name))\n",
    "    for column in dataset:\n",
    "        print('{}:'.format(column), dataset[column].isna().sum())"
   ]
  },
  {
   "cell_type": "markdown",
   "execution_count": null,
   "metadata": {},
   "source": [
    "**1.3.1 Feature *Sex***"
   ]
  },
  {
   "cell_type": "code",
   "execution_count": 7,
   "metadata": {},
   "outputs": [
    {
     "name": "stdout",
     "output_type": "stream",
     "text": [
      "74.2% of female passengers survived\n",
      "18.9% of male passengers survived\n"
     ]
    },
    {
     "data": {
      "image/png": "[encoded data removed]",
      "text/plain": [
       "<Figure size 432x288 with 1 Axes>"
      ]
     },
     "metadata": {
      "needs_background": "light"
     },
     "output_type": "display_data"
    }
   ],
   "source": [
    "# Survival rate per Sex\n",
    "survival_rate_sex = train.groupby(['Sex'])['Survived'].mean()\n",
    "for index, value in survival_rate_sex.items():\n",
    "    print('{}% of {} passengers survived'.format(round(value * 100, 1), index))\n",
    "    \n",
    "distribution('Sex')"
   ]
  },
  {
   "cell_type": "code",
   "execution_count": 8,
   "metadata": {},
   "outputs": [],
   "source": [
    "# Sex to numerical variable for correlation matrix \n",
    "labelEncoder = LabelEncoder()\n",
    "train['Sex'] = labelEncoder.fit_transform(train['Sex']) # male=1, female=0\n",
    "test['Sex'] = labelEncoder.fit_transform(test['Sex']) # male=1, female=0"
   ]
  },
  {
   "cell_type": "markdown",
   "execution_count": null,
   "metadata": {},
   "source": [
    "**1.2.2 Feature *Pclass***"
   ]
  },
  {
   "cell_type": "code",
   "execution_count": 9,
   "metadata": {},
   "outputs": [
    {
     "name": "stdout",
     "output_type": "stream",
     "text": [
      "63.0% of passengers in Pclass 1 survived\n",
      "47.3% of passengers in Pclass 2 survived\n",
      "24.2% of passengers in Pclass 3 survived\n"
     ]
    },
    {
     "data": {
      "image/png": "[encoded data removed]",
      "text/plain": [
       "<Figure size 432x288 with 1 Axes>"
      ]
     },
     "metadata": {},
     "output_type": "display_data"
    }
   ],
   "source": [
    "# Survival rate per Pclass\n",
    "survival_rate_pclass = train.groupby(['Pclass'])['Survived'].mean()\n",
    "for index, value in survival_rate_pclass.items():\n",
    "    print('{}% of passengers in Pclass {} survived'.format(round(value * 100, 1), index))\n",
    "\n",
    "\n",
    "distribution('Pclass')"
   ]
  },
  {
   "cell_type": "markdown",
   "execution_count": null,
   "metadata": {},
   "source": [
    "**1.3.3 Feature *Age***"
   ]
  },
  {
   "cell_type": "code",
   "execution_count": 10,
   "metadata": {},
   "outputs": [
    {
     "data": {
      "image/png": "[encoded data removed]",
      "text/plain": [
       "<Figure size 432x288 with 1 Axes>"
      ]
     },
     "metadata": {},
     "output_type": "display_data"
    },
    {
     "data": {
      "image/png": "[encoded data removed]",
      "text/plain": [
       "<Figure size 432x288 with 1 Axes>"
      ]
     },
     "metadata": {},
     "output_type": "display_data"
    },
    {
     "data": {
      "image/png": "[encoded data removed]",
      "text/plain": [
       "<Figure size 432x288 with 1 Axes>"
      ]
     },
     "metadata": {},
     "output_type": "display_data"
    }
   ],
   "source": [
    "distribution('Age')\n",
    "\n",
    "age_per_pclass = train.groupby('Pclass')['Age'].mean()\n",
    "\n",
    "plt.figure()\n",
    "plt.style.use('seaborn-darkgrid')\n",
    "plt.bar(age_per_pclass.index, age_per_pclass.values)\n",
    "plt.title('Mean age per passenger class'), plt.xlabel('Passenger Class'), plt.ylabel('Age')\n",
    "plt.xticks([1, 2, 3])\n",
    "for i, v in enumerate(np.array(age_per_pclass)):\n",
    "    plt.text(i+1, v + 0.25, str('%.2f' % v), ha='center', fontsize=10)  # Force every value to have 2 decimal places\n",
    "plt.tight_layout()\n",
    "plt.show()\n",
    "\n",
    "age_per_sibsp = train.groupby('SibSp')['Age'].mean()\n",
    "\n",
    "plt.figure()\n",
    "plt.style.use('seaborn-darkgrid')\n",
    "plt.bar(age_per_sibsp.index, age_per_sibsp.values)\n",
    "plt.title('Mean age per SibSp'), plt.xlabel('SibSp'), plt.ylabel('Age')\n",
    "for i, v in enumerate(np.array(age_per_sibsp)):\n",
    "    plt.text(i, v + 0.25, str('%.2f' % v), ha='center', fontsize=10)  # Force every value to have 2 decimal places\n",
    "plt.tight_layout()\n",
    "plt.show()"
   ]
  },
  {
   "cell_type": "markdown",
   "execution_count": null,
   "metadata": {},
   "source": [
    "**1.3.4 Feature *Fare***"
   ]
  },
  {
   "cell_type": "code",
   "execution_count": 11,
   "metadata": {},
   "outputs": [
    {
     "data": {
      "image/png": "[encoded data removed]",
      "text/plain": [
       "<Figure size 432x288 with 1 Axes>"
      ]
     },
     "metadata": {},
     "output_type": "display_data"
    },
    {
     "data": {
      "image/png": "[encoded data removed]",
      "text/plain": [
       "<Figure size 432x288 with 1 Axes>"
      ]
     },
     "metadata": {},
     "output_type": "display_data"
    }
   ],
   "source": [
    "distribution('Fare')\n",
    "\n",
    "fare_per_pclass = train.groupby('Pclass')['Fare'].mean()\n",
    "\n",
    "plt.figure()\n",
    "plt.style.use('seaborn-darkgrid')\n",
    "plt.bar(fare_per_pclass.index, fare_per_pclass.values)\n",
    "plt.title('Mean Fare per Pclass'), plt.xlabel('Pclass'), plt.ylabel('Fare')\n",
    "plt.xticks([1, 2, 3])\n",
    "for i, v in enumerate(np.array(fare_per_pclass)):\n",
    "    plt.text(i+1, v + 0.25, str('%.2f' % v), ha='center', fontsize=10)  # Force every value to have 2 decimal places\n",
    "plt.tight_layout()\n",
    "plt.show()"
   ]
  },
  {
   "cell_type": "markdown",
   "execution_count": null,
   "metadata": {},
   "source": [
    "1.3.5 Features *Embarked*, *SibSp* & *Parch*"
   ]
  },
  {
   "cell_type": "code",
   "execution_count": 12,
   "metadata": {},
   "outputs": [
    {
     "data": {
      "image/png": "[encoded data removed]",
      "text/plain": [
       "<Figure size 432x288 with 1 Axes>"
      ]
     },
     "metadata": {},
     "output_type": "display_data"
    },
    {
     "data": {
      "image/png": "[encoded data removed]",
      "text/plain": [
       "<Figure size 432x288 with 1 Axes>"
      ]
     },
     "metadata": {},
     "output_type": "display_data"
    },
    {
     "data": {
      "image/png": "[encoded data removed]",
      "text/plain": [
       "<Figure size 432x288 with 1 Axes>"
      ]
     },
     "metadata": {},
     "output_type": "display_data"
    }
   ],
   "source": [
    "distribution('Embarked')\n",
    "distribution('SibSp')\n",
    "distribution('Parch')"
   ]
  },
  {
   "cell_type": "markdown",
   "execution_count": null,
   "metadata": {},
   "source": [
    "## 1.4 Correlations\n",
    "\n",
    "Correlations may yield insights for cleaning the missing values in *Age* and *Fare*."
   ]
  },
  {
   "cell_type": "code",
   "execution_count": 13,
   "metadata": {},
   "outputs": [
    {
     "data": {
      "image/png": "[encoded data removed]",
      "text/plain": [
       "<Figure size 576x576 with 2 Axes>"
      ]
     },
     "metadata": {},
     "output_type": "display_data"
    }
   ],
   "source": [
    "# Correlation matrix\n",
    "correlation_matrix = train.loc[:, ['Pclass', 'Sex', 'Age', 'SibSp', 'Parch', 'Fare']]\n",
    "correlation_matrix = correlation_matrix.astype(float).corr()\n",
    "\n",
    "# Correlation heatmap\n",
    "plt.figure(figsize=(8,8))\n",
    "#sns.set(font_scale=0.75)\n",
    "sns.heatmap(correlation_matrix, vmin=-1, vmax=1, center=0, linewidths=0.5, cmap='coolwarm', square=True, annot=True, fmt='.2f', annot_kws={\"size\": 12})\n",
    "plt.xticks(fontsize=12), plt.yticks(rotation=0, ha='right', fontsize=12), plt.title('Correlation heatmap', fontsize=14)\n",
    "plt.show()"
   ]
  },
  {
   "cell_type": "markdown",
   "execution_count": null,
   "metadata": {},
   "source": [
    "Finding: *Age* correlates most with *Pclass* and *SibSp*, *Fare* correlates most with *Pclass*."
   ]
  },
  {
   "cell_type": "markdown",
   "execution_count": null,
   "metadata": {},
   "source": [
    "# 2. Data preprocessing"
   ]
  },
  {
   "cell_type": "markdown",
   "execution_count": null,
   "metadata": {},
   "source": [
    "## 2.1 Data cleaning"
   ]
  },
  {
   "cell_type": "markdown",
   "execution_count": null,
   "metadata": {},
   "source": [
    "- Missing values in *Age* are replaced with the mean of the respective *Pclass*\n",
    "- Missing values in *Fare* are replaced with the mean of the respective *Pclass*\n",
    "- Missing values in *Embarked* are replaced with 'Unknown'"
   ]
  },
  {
   "cell_type": "code",
   "execution_count": 14,
   "metadata": {},
   "outputs": [
    {
     "name": "stdout",
     "output_type": "stream",
     "text": [
      "Missing values after cleaning:\n",
      "\n",
      "Training set:\n",
      "PassengerId: 0\n",
      "Survived: 0\n",
      "Pclass: 0\n",
      "Name: 0\n",
      "Sex: 0\n",
      "Age: 0\n",
      "SibSp: 0\n",
      "Parch: 0\n",
      "Ticket: 0\n",
      "Fare: 0\n",
      "Cabin: 687\n",
      "Embarked: 0\n",
      "\n",
      "Test set:\n",
      "PassengerId: 0\n",
      "Pclass: 0\n",
      "Name: 0\n",
      "Sex: 0\n",
      "Age: 0\n",
      "SibSp: 0\n",
      "Parch: 0\n",
      "Ticket: 0\n",
      "Fare: 0\n",
      "Cabin: 327\n",
      "Embarked: 0\n"
     ]
    },
    {
     "data": {
      "text/plain": [
       "(None, None)"
      ]
     },
     "execution_count": 14,
     "metadata": {},
     "output_type": "execute_result"
    }
   ],
   "source": [
    "# Clean missing values in Age with mean of the respective Pclass\n",
    "train['Age'] = train['Age'].fillna(train.groupby('Pclass')['Age'].transform('mean'))\n",
    "test['Age'] = test['Age'].fillna(train.groupby('Pclass')['Age'].transform('mean'))\n",
    "\n",
    "# Clean missing values in Fare with mean of the respective Pclass\n",
    "test['Fare'] = test['Fare'].fillna(train.groupby('Pclass')['Fare'].transform('mean'))\n",
    "\n",
    "# Clean missing values in Embarked with Unknown\n",
    "train['Embarked'] = train['Embarked'].fillna('Unknown')\n",
    "\n",
    "print('Missing values after cleaning:')\n",
    "print('\\nTraining set:'), missing_after(train)\n",
    "print('\\nTest set:'), missing_after(test)"
   ]
  },
  {
   "cell_type": "markdown",
   "execution_count": null,
   "metadata": {},
   "source": [
    "## 2.2 Feature engineering"
   ]
  },
  {
   "cell_type": "markdown",
   "execution_count": null,
   "metadata": {},
   "source": [
    "2.2.1 Feature *Title*\n",
    "\n",
    "The column *Name* contains the title of every passenger on board of the Titanic. While the name is assumed to have no effect on whether a passenger will survive, the tilte may be relevant when it comes to predicting survival."
   ]
  },
  {
   "cell_type": "code",
   "execution_count": 15,
   "metadata": {},
   "outputs": [
    {
     "data": {
      "text/html": [
       "<div>\n",
       "<style scoped>\n",
       "    .dataframe tbody tr th:only-of-type {\n",
       "        vertical-align: middle;\n",
       "    }\n",
       "\n",
       "    .dataframe tbody tr th {\n",
       "        vertical-align: top;\n",
       "    }\n",
       "\n",
       "    .dataframe thead th {\n",
       "        text-align: right;\n",
       "    }\n",
       "</style>\n",
       "<table border=\"1\" class=\"dataframe\">\n",
       "  <thead>\n",
       "    <tr style=\"text-align: right;\">\n",
       "      <th></th>\n",
       "      <th>PassengerId</th>\n",
       "      <th>Name</th>\n",
       "    </tr>\n",
       "  </thead>\n",
       "  <tbody>\n",
       "    <tr>\n",
       "      <th>0</th>\n",
       "      <td>1</td>\n",
       "      <td>Braund, Mr. Owen Harris</td>\n",
       "    </tr>\n",
       "    <tr>\n",
       "      <th>1</th>\n",
       "      <td>2</td>\n",
       "      <td>Cumings, Mrs. John Bradley (Florence Briggs Th...</td>\n",
       "    </tr>\n",
       "    <tr>\n",
       "      <th>2</th>\n",
       "      <td>3</td>\n",
       "      <td>Heikkinen, Miss. Laina</td>\n",
       "    </tr>\n",
       "    <tr>\n",
       "      <th>3</th>\n",
       "      <td>4</td>\n",
       "      <td>Futrelle, Mrs. Jacques Heath (Lily May Peel)</td>\n",
       "    </tr>\n",
       "    <tr>\n",
       "      <th>4</th>\n",
       "      <td>5</td>\n",
       "      <td>Allen, Mr. William Henry</td>\n",
       "    </tr>\n",
       "    <tr>\n",
       "      <th>5</th>\n",
       "      <td>6</td>\n",
       "      <td>Moran, Mr. James</td>\n",
       "    </tr>\n",
       "    <tr>\n",
       "      <th>6</th>\n",
       "      <td>7</td>\n",
       "      <td>McCarthy, Mr. Timothy J</td>\n",
       "    </tr>\n",
       "    <tr>\n",
       "      <th>7</th>\n",
       "      <td>8</td>\n",
       "      <td>Palsson, Master. Gosta Leonard</td>\n",
       "    </tr>\n",
       "    <tr>\n",
       "      <th>8</th>\n",
       "      <td>9</td>\n",
       "      <td>Johnson, Mrs. Oscar W (Elisabeth Vilhelmina Berg)</td>\n",
       "    </tr>\n",
       "    <tr>\n",
       "      <th>9</th>\n",
       "      <td>10</td>\n",
       "      <td>Nasser, Mrs. Nicholas (Adele Achem)</td>\n",
       "    </tr>\n",
       "    <tr>\n",
       "      <th>10</th>\n",
       "      <td>11</td>\n",
       "      <td>Sandstrom, Miss. Marguerite Rut</td>\n",
       "    </tr>\n",
       "  </tbody>\n",
       "</table>\n",
       "</div>"
      ],
      "text/plain": [
       "    PassengerId                                               Name\n",
       "0             1                            Braund, Mr. Owen Harris\n",
       "1             2  Cumings, Mrs. John Bradley (Florence Briggs Th...\n",
       "2             3                             Heikkinen, Miss. Laina\n",
       "3             4       Futrelle, Mrs. Jacques Heath (Lily May Peel)\n",
       "4             5                           Allen, Mr. William Henry\n",
       "5             6                                   Moran, Mr. James\n",
       "6             7                            McCarthy, Mr. Timothy J\n",
       "7             8                     Palsson, Master. Gosta Leonard\n",
       "8             9  Johnson, Mrs. Oscar W (Elisabeth Vilhelmina Berg)\n",
       "9            10                Nasser, Mrs. Nicholas (Adele Achem)\n",
       "10           11                    Sandstrom, Miss. Marguerite Rut"
      ]
     },
     "execution_count": 15,
     "metadata": {},
     "output_type": "execute_result"
    }
   ],
   "source": [
    "train.loc[:10, ('PassengerId','Name')]"
   ]
  },
  {
   "cell_type": "markdown",
   "execution_count": null,
   "metadata": {},
   "source": [
    "There dataset initially contained many different titles. Most of them appear only once or twice. Therefore, the titles have been standardized to the most commong titles."
   ]
  },
  {
   "cell_type": "code",
   "execution_count": 16,
   "metadata": {
    "scrolled": true
   },
   "outputs": [
    {
     "name": "stdout",
     "output_type": "stream",
     "text": [
      "Training set:\n",
      "There are 17 different titles:\n",
      "Mr: 517\n",
      "Mrs: 125\n",
      "Miss: 182\n",
      "Master: 40\n",
      "Don: 1\n",
      "Rev: 6\n",
      "Dr: 7\n",
      "Mme: 1\n",
      "Ms: 1\n",
      "Major: 2\n",
      "Lady: 1\n",
      "Sir: 1\n",
      "Mlle: 2\n",
      "Col: 2\n",
      "Capt: 1\n",
      "theCountess: 1\n",
      "Jonkheer: 1\n",
      "\n",
      "Test set:\n",
      "There are 9 different titles:\n",
      "Mr: 240\n",
      "Mrs: 72\n",
      "Miss: 78\n",
      "Master: 21\n",
      "Ms: 1\n",
      "Col: 2\n",
      "Rev: 2\n",
      "Dr: 1\n",
      "Dona: 1\n",
      "\n"
     ]
    }
   ],
   "source": [
    "# Feature Title\n",
    "for dataset in (train, test):\n",
    "    print('{}:'.format(dataset.name))\n",
    "    dataset['Title'] = dataset['Name'].str.split(',').str[1]\n",
    "    dataset['Title'] = dataset['Title'].str.split('.').str[0]\n",
    "    dataset['Title'] = dataset['Title'].str.replace(' ', '')\n",
    "    \n",
    "    print('There are {} different titles:'.format(dataset['Title'].nunique()))\n",
    "\n",
    "    for i in list(dataset['Title'].unique()):\n",
    "        print('{}:'.format(i), sum(dataset['Title'] == i))\n",
    "\n",
    "    # Standardize titles\n",
    "    dataset['Title'] = dataset['Title'].str.replace('Ms|Mlle', 'Miss')\n",
    "    dataset['Title'] = dataset['Title'].str.replace('Dona|theCountess|Lady|Mme', 'Mrs')\n",
    "    dataset['Title'] = dataset['Title'].str.replace('Capt|Col|Don|Jonkheer|Major|Mrt|Rev|Sir', 'Mr')\n",
    "    \n",
    "    print('')"
   ]
  },
  {
   "cell_type": "markdown",
   "execution_count": null,
   "metadata": {},
   "source": [
    "While the sex is obvious for most titles, this is not the case for 'Dr'. Further analysis is required to check whether 'Dr' belongs to one or both sexes."
   ]
  },
  {
   "cell_type": "code",
   "execution_count": 17,
   "metadata": {},
   "outputs": [
    {
     "name": "stdout",
     "output_type": "stream",
     "text": [
      "Training set:\n",
      "Detailed analysis of Dr:\n",
      "     PassengerId                           Name Title\n",
      "245          246    Minahan, Dr. William Edward    Dr\n",
      "317          318           Moraweck, Dr. Ernest    Dr\n",
      "398          399               Pain, Dr. Alfred    Dr\n",
      "632          633      Stahelin-Maeglin, Dr. Max    Dr\n",
      "660          661  Frauenthal, Dr. Henry William    Dr\n",
      "766          767      Brewe, Dr. Arthur Jackson    Dr\n",
      "796          797    Leader, Dr. Alice (Farnham)    Dr\n",
      "\n",
      "Test set:\n",
      "Detailed analysis of Dr:\n",
      "     PassengerId                   Name Title\n",
      "293         1185  Dodge, Dr. Washington    Dr\n",
      "\n"
     ]
    }
   ],
   "source": [
    "for dataset in (train, test):\n",
    "    print('{}:'.format(dataset.name))\n",
    "    print('Detailed analysis of Dr:')\n",
    "    print(dataset.loc[:, ('PassengerId', 'Name', 'Title')][dataset['Title'] == 'Dr'])\n",
    "    print('')"
   ]
  },
  {
   "cell_type": "markdown",
   "execution_count": null,
   "metadata": {},
   "source": [
    "Result: Mr, Mrs, Miss, Master"
   ]
  },
  {
   "cell_type": "code",
   "execution_count": 18,
   "metadata": {},
   "outputs": [
    {
     "name": "stdout",
     "output_type": "stream",
     "text": [
      "Training set:\n",
      "Mr: 537\n",
      "Mrs: 129\n",
      "Miss: 185\n",
      "Master: 40\n",
      "\n",
      "Test set:\n",
      "Mr: 245\n",
      "Mrs: 73\n",
      "Miss: 79\n",
      "Master: 21\n",
      "\n"
     ]
    }
   ],
   "source": [
    "# Replace female Dr with Mrs and male Dr with Mr\n",
    "for dataset in (train, test):\n",
    "    print('{}:'.format(dataset.name))\n",
    "    dataset.loc[(dataset['Sex'] == 1) & (dataset['Title'] == 'Dr'), 'Title'] = 'Mr'\n",
    "    dataset.loc[(dataset['Sex'] == 0) & (dataset['Title'] == 'Dr'), 'Title'] = 'Mrs'\n",
    "\n",
    "    # Result: Mr, Mrs, Miss, Master\n",
    "    for i in list(dataset['Title'].unique()):\n",
    "        print('{}:'.format(i), sum(dataset['Title'] == i))\n",
    "    print('')"
   ]
  },
  {
   "cell_type": "markdown",
   "execution_count": null,
   "metadata": {},
   "source": [
    "2.2.2 Feature *Ttype*"
   ]
  },
  {
   "cell_type": "markdown",
   "execution_count": null,
   "metadata": {},
   "source": [
    "There may be a logic in column *Ticket*. Most tickets only contain numbers while their are groups of other ticket types, such as 'A/5', 'PC' or 'STON'. 'STON' may indicate 'Southhampton'. This is already captured in the column *Embarked*. However, the ticket types may contain information that help to learn algorithm to make more accurate predictions."
   ]
  },
  {
   "cell_type": "code",
   "execution_count": 19,
   "metadata": {},
   "outputs": [
    {
     "data": {
      "text/html": [
       "<div>\n",
       "<style scoped>\n",
       "    .dataframe tbody tr th:only-of-type {\n",
       "        vertical-align: middle;\n",
       "    }\n",
       "\n",
       "    .dataframe tbody tr th {\n",
       "        vertical-align: top;\n",
       "    }\n",
       "\n",
       "    .dataframe thead th {\n",
       "        text-align: right;\n",
       "    }\n",
       "</style>\n",
       "<table border=\"1\" class=\"dataframe\">\n",
       "  <thead>\n",
       "    <tr style=\"text-align: right;\">\n",
       "      <th></th>\n",
       "      <th>PassengerId</th>\n",
       "      <th>Ticket</th>\n",
       "    </tr>\n",
       "  </thead>\n",
       "  <tbody>\n",
       "    <tr>\n",
       "      <th>0</th>\n",
       "      <td>1</td>\n",
       "      <td>A/5 21171</td>\n",
       "    </tr>\n",
       "    <tr>\n",
       "      <th>1</th>\n",
       "      <td>2</td>\n",
       "      <td>PC 17599</td>\n",
       "    </tr>\n",
       "    <tr>\n",
       "      <th>2</th>\n",
       "      <td>3</td>\n",
       "      <td>STON/O2. 3101282</td>\n",
       "    </tr>\n",
       "    <tr>\n",
       "      <th>3</th>\n",
       "      <td>4</td>\n",
       "      <td>113803</td>\n",
       "    </tr>\n",
       "    <tr>\n",
       "      <th>4</th>\n",
       "      <td>5</td>\n",
       "      <td>373450</td>\n",
       "    </tr>\n",
       "    <tr>\n",
       "      <th>5</th>\n",
       "      <td>6</td>\n",
       "      <td>330877</td>\n",
       "    </tr>\n",
       "    <tr>\n",
       "      <th>6</th>\n",
       "      <td>7</td>\n",
       "      <td>17463</td>\n",
       "    </tr>\n",
       "    <tr>\n",
       "      <th>7</th>\n",
       "      <td>8</td>\n",
       "      <td>349909</td>\n",
       "    </tr>\n",
       "    <tr>\n",
       "      <th>8</th>\n",
       "      <td>9</td>\n",
       "      <td>347742</td>\n",
       "    </tr>\n",
       "    <tr>\n",
       "      <th>9</th>\n",
       "      <td>10</td>\n",
       "      <td>237736</td>\n",
       "    </tr>\n",
       "  </tbody>\n",
       "</table>\n",
       "</div>"
      ],
      "text/plain": [
       "   PassengerId            Ticket\n",
       "0            1         A/5 21171\n",
       "1            2          PC 17599\n",
       "2            3  STON/O2. 3101282\n",
       "3            4            113803\n",
       "4            5            373450\n",
       "5            6            330877\n",
       "6            7             17463\n",
       "7            8            349909\n",
       "8            9            347742\n",
       "9           10            237736"
      ]
     },
     "execution_count": 19,
     "metadata": {},
     "output_type": "execute_result"
    }
   ],
   "source": [
    "train.loc[:, ('PassengerId', 'Ticket')][:10]"
   ]
  },
  {
   "cell_type": "code",
   "execution_count": 20,
   "metadata": {},
   "outputs": [
    {
     "data": {
      "image/png": "[encoded data removed]",
      "text/plain": [
       "<Figure size 432x288 with 1 Axes>"
      ]
     },
     "metadata": {},
     "output_type": "display_data"
    },
    {
     "data": {
      "image/png": "[encoded data removed]",
      "text/plain": [
       "<Figure size 432x288 with 1 Axes>"
      ]
     },
     "metadata": {},
     "output_type": "display_data"
    }
   ],
   "source": [
    "# Feature Ticket type\n",
    "for dataset in (train, test):\n",
    "    dataset['Ttype'] = dataset['Ticket']\n",
    "    ticket = [('STON|SOTON|S.O|SO/C|S.O', 'SOTON'), ('C.A|CA', 'CA'), ('PP', 'PP'), ('S.C|SC', 'SC'), ('W./C.|W/C|WC','WC'),\n",
    "             ('A/|A.', 'A'), ('F.C.', 'FC'), ('Fa|W.E.P|SW|S.W.|WE/P|S.P.|C |LP|LINE', 'Other')]\n",
    "\n",
    "    for string in ticket:\n",
    "        dataset.loc[dataset['Ttype'].str.contains(string[0]), 'Ttype'] = string[1]\n",
    "\n",
    "    # Replace columns containing numbers only with Number\n",
    "    dataset['Ttype'] = dataset['Ttype'].str.replace('[0123456789]', '')\n",
    "    dataset.loc[dataset['Ttype'] == '', 'Ttype'] = 'Standard'\n",
    "\n",
    "    sns.set(style='darkgrid')\n",
    "    sns.countplot(dataset['Ttype'], order=dataset['Ttype'].value_counts().index)\n",
    "    plt.title('Ticket types ({})'.format(dataset.name)), plt.ylabel('Count'), plt.xlabel('Ticket type')\n",
    "    plt.xticks(rotation=45, ha='right')\n",
    "    plt.tight_layout()\n",
    "    plt.show()"
   ]
  },
  {
   "cell_type": "markdown",
   "execution_count": null,
   "metadata": {},
   "source": [
    "2.2.3 Feature *Deck*"
   ]
  },
  {
   "cell_type": "markdown",
   "execution_count": null,
   "metadata": {},
   "source": [
    "Similar to the *Ttype*, the cabin may capture important information. Research has shown that the letter in the column *Cabin* indicates the deck. Some decks are in the bottom of the Titanic which is expected to affect the chance of survival."
   ]
  },
  {
   "cell_type": "code",
   "execution_count": 21,
   "metadata": {},
   "outputs": [
    {
     "data": {
      "text/html": [
       "<div>\n",
       "<style scoped>\n",
       "    .dataframe tbody tr th:only-of-type {\n",
       "        vertical-align: middle;\n",
       "    }\n",
       "\n",
       "    .dataframe tbody tr th {\n",
       "        vertical-align: top;\n",
       "    }\n",
       "\n",
       "    .dataframe thead th {\n",
       "        text-align: right;\n",
       "    }\n",
       "</style>\n",
       "<table border=\"1\" class=\"dataframe\">\n",
       "  <thead>\n",
       "    <tr style=\"text-align: right;\">\n",
       "      <th></th>\n",
       "      <th>PassengerId</th>\n",
       "      <th>Cabin</th>\n",
       "    </tr>\n",
       "  </thead>\n",
       "  <tbody>\n",
       "    <tr>\n",
       "      <th>0</th>\n",
       "      <td>1</td>\n",
       "      <td>NaN</td>\n",
       "    </tr>\n",
       "    <tr>\n",
       "      <th>1</th>\n",
       "      <td>2</td>\n",
       "      <td>C85</td>\n",
       "    </tr>\n",
       "    <tr>\n",
       "      <th>2</th>\n",
       "      <td>3</td>\n",
       "      <td>NaN</td>\n",
       "    </tr>\n",
       "    <tr>\n",
       "      <th>3</th>\n",
       "      <td>4</td>\n",
       "      <td>C123</td>\n",
       "    </tr>\n",
       "    <tr>\n",
       "      <th>4</th>\n",
       "      <td>5</td>\n",
       "      <td>NaN</td>\n",
       "    </tr>\n",
       "    <tr>\n",
       "      <th>5</th>\n",
       "      <td>6</td>\n",
       "      <td>NaN</td>\n",
       "    </tr>\n",
       "    <tr>\n",
       "      <th>6</th>\n",
       "      <td>7</td>\n",
       "      <td>E46</td>\n",
       "    </tr>\n",
       "    <tr>\n",
       "      <th>7</th>\n",
       "      <td>8</td>\n",
       "      <td>NaN</td>\n",
       "    </tr>\n",
       "    <tr>\n",
       "      <th>8</th>\n",
       "      <td>9</td>\n",
       "      <td>NaN</td>\n",
       "    </tr>\n",
       "    <tr>\n",
       "      <th>9</th>\n",
       "      <td>10</td>\n",
       "      <td>NaN</td>\n",
       "    </tr>\n",
       "  </tbody>\n",
       "</table>\n",
       "</div>"
      ],
      "text/plain": [
       "   PassengerId Cabin\n",
       "0            1   NaN\n",
       "1            2   C85\n",
       "2            3   NaN\n",
       "3            4  C123\n",
       "4            5   NaN\n",
       "5            6   NaN\n",
       "6            7   E46\n",
       "7            8   NaN\n",
       "8            9   NaN\n",
       "9           10   NaN"
      ]
     },
     "execution_count": 21,
     "metadata": {},
     "output_type": "execute_result"
    }
   ],
   "source": [
    "train.loc[:, ('PassengerId', 'Cabin')][:10]"
   ]
  },
  {
   "cell_type": "code",
   "execution_count": 22,
   "metadata": {},
   "outputs": [
    {
     "data": {
      "image/png": "[encoded data removed]",
      "text/plain": [
       "<Figure size 432x288 with 1 Axes>"
      ]
     },
     "metadata": {},
     "output_type": "display_data"
    },
    {
     "data": {
      "image/png": "[encoded data removed]",
      "text/plain": [
       "<Figure size 432x288 with 1 Axes>"
      ]
     },
     "metadata": {},
     "output_type": "display_data"
    }
   ],
   "source": [
    "for dataset in (train, test):\n",
    "    # Create new column and replace NaNs by Unknown\n",
    "    dataset['Deck'] = dataset['Cabin']\n",
    "    dataset['Deck'] = dataset['Deck'].fillna(0)\n",
    "\n",
    "    # Keep the letter indicating the Deck and drop the number indicating the Cabin number\n",
    "    cabin = [('A', 1), ('B', 2), ('C', 3), ('D', 4), ('E', 5), ('F', 6), ('G', 7)]\n",
    "\n",
    "    for string in cabin:\n",
    "        dataset.loc[dataset['Deck'].str.contains(string[0], na=False), 'Deck'] = string[1]\n",
    "\n",
    "    # Replace Deck T by Unknown since T is no deck\n",
    "    dataset['Deck'] = dataset['Deck'].replace('T', 0)\n",
    "\n",
    "    # Plot: of final Deck values\n",
    "    sns.set(style='darkgrid')\n",
    "    sns.countplot(dataset['Deck'], order=dataset['Deck'].value_counts().index)\n",
    "    plt.title('Deck ({})'.format(dataset.name)), plt.ylabel('Count'), plt.xlabel('Ticket type')\n",
    "    plt.tight_layout()\n",
    "    plt.show()\n"
   ]
  },
  {
   "cell_type": "markdown",
   "execution_count": null,
   "metadata": {},
   "source": [
    "Unfortunately, the performance turned out to decrease when the model was trained with the feature *Deck*."
   ]
  },
  {
   "cell_type": "markdown",
   "execution_count": null,
   "metadata": {},
   "source": [
    "## 2.3 Polynomial features\n",
    "\n",
    "Polynomial features are very powerful for identifying interaction effects within the data. Thereby, the algorithm can nonlinear effects when it is trained with linear data. The algorithm could identify that young and old passengers, but no passengers with middle age, have a high chance of survival."
   ]
  },
  {
   "cell_type": "code",
   "execution_count": 23,
   "metadata": {},
   "outputs": [],
   "source": [
    "poly = PolynomialFeatures(3)\n",
    "poly_train = pd.DataFrame(poly.fit_transform(train.loc[:, ('Age', 'Fare')]),\n",
    "                          columns=poly.get_feature_names(train.loc[:, ('Age', 'Fare')].columns))\n",
    "train = pd.concat([train, poly_train.loc[:, 'Age^2':'Fare^3']], ignore_index=False, axis=1, sort=False)\n",
    "\n",
    "poly_test = pd.DataFrame(poly.fit_transform(test.loc[:, ('Age', 'Fare')]),\n",
    "                         columns=poly.get_feature_names(test.loc[:, ('Age', 'Fare')].columns))\n",
    "test = pd.concat([test, poly_test.loc[:, 'Age^2':'Fare^3']], ignore_index=False, axis=1, sort=False)\n",
    "\n"
   ]
  },
  {
   "cell_type": "markdown",
   "execution_count": null,
   "metadata": {},
   "source": [
    "## 2.4 Feature scaling for numerical columns\n",
    "\n",
    "Most ML algorithms do not perform well when the input numerical attributes have very different scales. The values need to scaled."
   ]
  },
  {
   "cell_type": "code",
   "execution_count": 24,
   "metadata": {},
   "outputs": [],
   "source": [
    "for dataset in (train, test):\n",
    "    for column in dataset.loc[:, 'Pclass':]:  # start with Pclass\n",
    "        if dataset[column].dtypes == 'float64' or dataset[column].dtypes == 'int64':\n",
    "            dataset[column] = MinMaxScaler().fit_transform(dataset[[column]])"
   ]
  },
  {
   "cell_type": "markdown",
   "execution_count": null,
   "metadata": {},
   "source": [
    "## 2.5 Label encoding and one-hot encoding\n",
    "\n",
    "Furthermore, ML algorithms prefer to work with numbers. Let's convert the text labels into numbers! Features with more than two different text labels need to be scaled with one-hot encoding and not with label encoding. Otherwise, the model would assume that two nearby values are more similar than two distant values which is not the case."
   ]
  },
  {
   "cell_type": "code",
   "execution_count": 25,
   "metadata": {},
   "outputs": [],
   "source": [
    "# Label encoding (categorical variables with two values)\n",
    "labelEncoder = LabelEncoder()\n",
    "train['Sex'] = labelEncoder.fit_transform(train['Sex'])\n",
    "test['Sex'] = labelEncoder.fit_transform(test['Sex'])\n",
    "\n",
    "# One hot encoding (categorical variables with more than two values) # abstract the code\n",
    "one_hot_encoding_train = pd.get_dummies(train[['Pclass', 'Embarked', 'Title', 'Ttype']])\n",
    "train = pd.concat([train, one_hot_encoding_train], ignore_index=False, axis=1, sort=False)\n",
    "one_hot_encoding_test = pd.get_dummies(test[['Pclass', 'Embarked', 'Title', 'Ttype']])\n",
    "test = pd.concat([test, one_hot_encoding_test], ignore_index=False, axis=1, sort=False)\n"
   ]
  },
  {
   "cell_type": "markdown",
   "execution_count": null,
   "metadata": {},
   "source": [
    "## 2.6 Prepare the data"
   ]
  },
  {
   "cell_type": "markdown",
   "execution_count": null,
   "metadata": {},
   "source": [
    "**2.6.1 Estimators**"
   ]
  },
  {
   "cell_type": "code",
   "execution_count": 26,
   "metadata": {},
   "outputs": [],
   "source": [
    "X_train = pd.concat([train.loc[:, 'Sex':'Age'], train.loc[:, 'Age^2':'Embarked_S'], train.loc[:, 'Title_Master':'Ttype_WC']], axis=1, sort=False)\n",
    "X_test = pd.concat([test.loc[:, 'Sex':'Age'], test.loc[:, 'Age^2':'Embarked_S'], test.loc[:, 'Title_Master':'Ttype_WC']], axis=1, sort=False)\n",
    "\n",
    "# Training and validation set to estimate generalization performance\n",
    "training, validation = train_test_split(train, test_size=0.2)\n",
    "\n",
    "X_training = pd.concat([training['Pclass'], training.loc[:, 'Sex':'Age'], training.loc[:, 'Age^2':'Embarked_S'], training.loc[:, 'Title_Master':'Ttype_WC']], axis=1, sort=False)\n",
    "X_validation = pd.concat([validation['Pclass'], validation.loc[:, 'Sex':'Age'], validation.loc[:, 'Age^2':'Embarked_S'], validation.loc[:, 'Title_Master':'Ttype_WC']], axis=1, sort=False)"
   ]
  },
  {
   "cell_type": "code",
   "execution_count": 27,
   "metadata": {},
   "outputs": [
    {
     "data": {
      "text/html": [
       "<div>\n",
       "<style scoped>\n",
       "    .dataframe tbody tr th:only-of-type {\n",
       "        vertical-align: middle;\n",
       "    }\n",
       "\n",
       "    .dataframe tbody tr th {\n",
       "        vertical-align: top;\n",
       "    }\n",
       "\n",
       "    .dataframe thead th {\n",
       "        text-align: right;\n",
       "    }\n",
       "</style>\n",
       "<table border=\"1\" class=\"dataframe\">\n",
       "  <thead>\n",
       "    <tr style=\"text-align: right;\">\n",
       "      <th></th>\n",
       "      <th>Sex</th>\n",
       "      <th>Age</th>\n",
       "      <th>Age^2</th>\n",
       "      <th>Age Fare</th>\n",
       "      <th>Fare^2</th>\n",
       "      <th>Age^3</th>\n",
       "      <th>Age^2 Fare</th>\n",
       "      <th>Age Fare^2</th>\n",
       "      <th>Fare^3</th>\n",
       "      <th>Pclass</th>\n",
       "      <th>Embarked_C</th>\n",
       "      <th>Embarked_Q</th>\n",
       "      <th>Embarked_S</th>\n",
       "      <th>Title_Master</th>\n",
       "      <th>Title_Miss</th>\n",
       "      <th>Title_Mr</th>\n",
       "      <th>Title_Mrs</th>\n",
       "      <th>Ttype_A</th>\n",
       "      <th>Ttype_CA</th>\n",
       "      <th>Ttype_FC</th>\n",
       "      <th>Ttype_Other</th>\n",
       "      <th>Ttype_PP</th>\n",
       "      <th>Ttype_SC</th>\n",
       "      <th>Ttype_SOTON</th>\n",
       "      <th>Ttype_Standard</th>\n",
       "      <th>Ttype_WC</th>\n",
       "    </tr>\n",
       "  </thead>\n",
       "  <tbody>\n",
       "    <tr>\n",
       "      <th>0</th>\n",
       "      <td>1</td>\n",
       "      <td>0.271174</td>\n",
       "      <td>0.075600</td>\n",
       "      <td>0.008648</td>\n",
       "      <td>0.000200</td>\n",
       "      <td>0.020797</td>\n",
       "      <td>0.003257</td>\n",
       "      <td>0.000122</td>\n",
       "      <td>0.000003</td>\n",
       "      <td>1.0</td>\n",
       "      <td>0</td>\n",
       "      <td>0</td>\n",
       "      <td>1</td>\n",
       "      <td>0</td>\n",
       "      <td>0</td>\n",
       "      <td>1</td>\n",
       "      <td>0</td>\n",
       "      <td>1</td>\n",
       "      <td>0</td>\n",
       "      <td>0</td>\n",
       "      <td>0</td>\n",
       "      <td>0</td>\n",
       "      <td>0</td>\n",
       "      <td>0</td>\n",
       "      <td>0</td>\n",
       "      <td>0</td>\n",
       "    </tr>\n",
       "    <tr>\n",
       "      <th>1</th>\n",
       "      <td>0</td>\n",
       "      <td>0.472229</td>\n",
       "      <td>0.225604</td>\n",
       "      <td>0.146865</td>\n",
       "      <td>0.019359</td>\n",
       "      <td>0.107172</td>\n",
       "      <td>0.095552</td>\n",
       "      <td>0.020434</td>\n",
       "      <td>0.002693</td>\n",
       "      <td>0.0</td>\n",
       "      <td>1</td>\n",
       "      <td>0</td>\n",
       "      <td>0</td>\n",
       "      <td>0</td>\n",
       "      <td>0</td>\n",
       "      <td>0</td>\n",
       "      <td>1</td>\n",
       "      <td>0</td>\n",
       "      <td>0</td>\n",
       "      <td>0</td>\n",
       "      <td>1</td>\n",
       "      <td>0</td>\n",
       "      <td>0</td>\n",
       "      <td>0</td>\n",
       "      <td>0</td>\n",
       "      <td>0</td>\n",
       "    </tr>\n",
       "    <tr>\n",
       "      <th>2</th>\n",
       "      <td>0</td>\n",
       "      <td>0.321438</td>\n",
       "      <td>0.105600</td>\n",
       "      <td>0.011172</td>\n",
       "      <td>0.000239</td>\n",
       "      <td>0.034328</td>\n",
       "      <td>0.004973</td>\n",
       "      <td>0.000173</td>\n",
       "      <td>0.000004</td>\n",
       "      <td>1.0</td>\n",
       "      <td>0</td>\n",
       "      <td>0</td>\n",
       "      <td>1</td>\n",
       "      <td>0</td>\n",
       "      <td>1</td>\n",
       "      <td>0</td>\n",
       "      <td>0</td>\n",
       "      <td>0</td>\n",
       "      <td>0</td>\n",
       "      <td>0</td>\n",
       "      <td>0</td>\n",
       "      <td>0</td>\n",
       "      <td>0</td>\n",
       "      <td>1</td>\n",
       "      <td>0</td>\n",
       "      <td>0</td>\n",
       "    </tr>\n",
       "    <tr>\n",
       "      <th>3</th>\n",
       "      <td>0</td>\n",
       "      <td>0.434531</td>\n",
       "      <td>0.191384</td>\n",
       "      <td>0.100765</td>\n",
       "      <td>0.010742</td>\n",
       "      <td>0.083740</td>\n",
       "      <td>0.060383</td>\n",
       "      <td>0.010444</td>\n",
       "      <td>0.001113</td>\n",
       "      <td>0.0</td>\n",
       "      <td>0</td>\n",
       "      <td>0</td>\n",
       "      <td>1</td>\n",
       "      <td>0</td>\n",
       "      <td>0</td>\n",
       "      <td>0</td>\n",
       "      <td>1</td>\n",
       "      <td>0</td>\n",
       "      <td>0</td>\n",
       "      <td>0</td>\n",
       "      <td>0</td>\n",
       "      <td>0</td>\n",
       "      <td>0</td>\n",
       "      <td>0</td>\n",
       "      <td>1</td>\n",
       "      <td>0</td>\n",
       "    </tr>\n",
       "    <tr>\n",
       "      <th>4</th>\n",
       "      <td>1</td>\n",
       "      <td>0.434531</td>\n",
       "      <td>0.191384</td>\n",
       "      <td>0.015276</td>\n",
       "      <td>0.000247</td>\n",
       "      <td>0.083740</td>\n",
       "      <td>0.009154</td>\n",
       "      <td>0.000240</td>\n",
       "      <td>0.000004</td>\n",
       "      <td>1.0</td>\n",
       "      <td>0</td>\n",
       "      <td>0</td>\n",
       "      <td>1</td>\n",
       "      <td>0</td>\n",
       "      <td>0</td>\n",
       "      <td>1</td>\n",
       "      <td>0</td>\n",
       "      <td>0</td>\n",
       "      <td>0</td>\n",
       "      <td>0</td>\n",
       "      <td>0</td>\n",
       "      <td>0</td>\n",
       "      <td>0</td>\n",
       "      <td>0</td>\n",
       "      <td>1</td>\n",
       "      <td>0</td>\n",
       "    </tr>\n",
       "  </tbody>\n",
       "</table>\n",
       "</div>"
      ],
      "text/plain": [
       "   Sex       Age     Age^2  Age Fare    Fare^2     Age^3  Age^2 Fare  \\\n",
       "0    1  0.271174  0.075600  0.008648  0.000200  0.020797    0.003257   \n",
       "1    0  0.472229  0.225604  0.146865  0.019359  0.107172    0.095552   \n",
       "2    0  0.321438  0.105600  0.011172  0.000239  0.034328    0.004973   \n",
       "3    0  0.434531  0.191384  0.100765  0.010742  0.083740    0.060383   \n",
       "4    1  0.434531  0.191384  0.015276  0.000247  0.083740    0.009154   \n",
       "\n",
       "   Age Fare^2    Fare^3  Pclass  Embarked_C  Embarked_Q  Embarked_S  \\\n",
       "0    0.000122  0.000003     1.0           0           0           1   \n",
       "1    0.020434  0.002693     0.0           1           0           0   \n",
       "2    0.000173  0.000004     1.0           0           0           1   \n",
       "3    0.010444  0.001113     0.0           0           0           1   \n",
       "4    0.000240  0.000004     1.0           0           0           1   \n",
       "\n",
       "   Title_Master  Title_Miss  Title_Mr  Title_Mrs  Ttype_A  Ttype_CA  Ttype_FC  \\\n",
       "0             0           0         1          0        1         0         0   \n",
       "1             0           0         0          1        0         0         0   \n",
       "2             0           1         0          0        0         0         0   \n",
       "3             0           0         0          1        0         0         0   \n",
       "4             0           0         1          0        0         0         0   \n",
       "\n",
       "   Ttype_Other  Ttype_PP  Ttype_SC  Ttype_SOTON  Ttype_Standard  Ttype_WC  \n",
       "0            0         0         0            0               0         0  \n",
       "1            1         0         0            0               0         0  \n",
       "2            0         0         0            1               0         0  \n",
       "3            0         0         0            0               1         0  \n",
       "4            0         0         0            0               1         0  "
      ]
     },
     "execution_count": 27,
     "metadata": {},
     "output_type": "execute_result"
    }
   ],
   "source": [
    "X_train[:5]"
   ]
  },
  {
   "cell_type": "markdown",
   "execution_count": null,
   "metadata": {},
   "source": [
    "**2.6.2 Target value *Survived***"
   ]
  },
  {
   "cell_type": "code",
   "execution_count": 28,
   "metadata": {},
   "outputs": [],
   "source": [
    "y_train = np.ravel(train[['Survived']])\n",
    "y_training = np.ravel(training[['Survived']])\n",
    "y_validation = np.ravel(validation[['Survived']])"
   ]
  },
  {
   "cell_type": "markdown",
   "execution_count": null,
   "metadata": {},
   "source": [
    "# 3. Model selection"
   ]
  },
  {
   "cell_type": "markdown",
   "execution_count": null,
   "metadata": {},
   "source": [
    "## 3.1 Generalization performance of different models"
   ]
  },
  {
   "cell_type": "code",
   "execution_count": 29,
   "metadata": {
    "scrolled": false
   },
   "outputs": [
    {
     "data": {
      "text/html": [
       "<div>\n",
       "<style scoped>\n",
       "    .dataframe tbody tr th:only-of-type {\n",
       "        vertical-align: middle;\n",
       "    }\n",
       "\n",
       "    .dataframe tbody tr th {\n",
       "        vertical-align: top;\n",
       "    }\n",
       "\n",
       "    .dataframe thead th {\n",
       "        text-align: right;\n",
       "    }\n",
       "</style>\n",
       "<table border=\"1\" class=\"dataframe\">\n",
       "  <thead>\n",
       "    <tr style=\"text-align: right;\">\n",
       "      <th></th>\n",
       "      <th>Model</th>\n",
       "      <th>Training score</th>\n",
       "      <th>Validation score</th>\n",
       "    </tr>\n",
       "  </thead>\n",
       "  <tbody>\n",
       "    <tr>\n",
       "      <th>0</th>\n",
       "      <td>Gradient boosting</td>\n",
       "      <td>0.897</td>\n",
       "      <td>0.827</td>\n",
       "    </tr>\n",
       "    <tr>\n",
       "      <th>1</th>\n",
       "      <td>Support vector machine</td>\n",
       "      <td>0.841</td>\n",
       "      <td>0.821</td>\n",
       "    </tr>\n",
       "    <tr>\n",
       "      <th>2</th>\n",
       "      <td>Random forest</td>\n",
       "      <td>0.909</td>\n",
       "      <td>0.816</td>\n",
       "    </tr>\n",
       "    <tr>\n",
       "      <th>3</th>\n",
       "      <td>Logistic regression</td>\n",
       "      <td>0.820</td>\n",
       "      <td>0.799</td>\n",
       "    </tr>\n",
       "    <tr>\n",
       "      <th>4</th>\n",
       "      <td>Naive bayes</td>\n",
       "      <td>0.754</td>\n",
       "      <td>0.737</td>\n",
       "    </tr>\n",
       "  </tbody>\n",
       "</table>\n",
       "</div>"
      ],
      "text/plain": [
       "                    Model  Training score  Validation score\n",
       "0       Gradient boosting           0.897             0.827\n",
       "1  Support vector machine           0.841             0.821\n",
       "2           Random forest           0.909             0.816\n",
       "3     Logistic regression           0.820             0.799\n",
       "4             Naive bayes           0.754             0.737"
      ]
     },
     "execution_count": 29,
     "metadata": {},
     "output_type": "execute_result"
    }
   ],
   "source": [
    "logistic_regression = LogisticRegressionCV(scoring='accuracy', penalty='l1', solver='saga', Cs=50, cv=5, max_iter=10000)\n",
    "logistic_regression.name = 'Logistic regression'\n",
    "random_forest = RandomForestClassifier(n_estimators=200, max_features=15, max_depth=10, min_samples_leaf=3)\n",
    "random_forest.name = 'Random forest'\n",
    "support_vector_machine = svm.SVC(C=1.5, kernel='rbf', gamma='scale', probability=True)\n",
    "support_vector_machine.name = 'Support vector machine'\n",
    "gradient_boosting = GradientBoostingClassifier(loss='deviance', learning_rate=0.03, n_estimators=200, criterion='friedman_mse')\n",
    "gradient_boosting.name = 'Gradient boosting'\n",
    "naive_bayes = GaussianNB()\n",
    "naive_bayes.name = 'Naive bayes'\n",
    "\n",
    "comparison = pd.DataFrame({'Model': [], 'Training score': [], 'Validation score': []})\n",
    "\n",
    "for model in [random_forest, logistic_regression, support_vector_machine, gradient_boosting, naive_bayes]:\n",
    "    model.fit(X_training, y_training)\n",
    "    prediction_training = pd.DataFrame({'PassengerId': training['PassengerId'], 'Actual': y_training,\n",
    "                                        'Prediction Classification': model.predict(X_training)})\n",
    "    prediction_validation = pd.DataFrame({'PassengerId': validation['PassengerId'], 'Actual': y_validation,\n",
    "                                          'Prediction Classification': model.predict(X_validation)})\n",
    "\n",
    "    accuracy_training = round(model.score(X_training, y_training), 3)\n",
    "    accuracy_validation = round(model.score(X_validation, y_validation), 3)\n",
    "\n",
    "    results = pd.DataFrame({'Model': [model.name], 'Training score': [accuracy_training], 'Validation score': [accuracy_validation]})\n",
    "    comparison = comparison.append(results, ignore_index=True)\n",
    "\n",
    "comparison.sort_values(by='Validation score', ascending=False).reset_index(drop=True)"
   ]
  },
  {
   "cell_type": "markdown",
   "execution_count": null,
   "metadata": {},
   "source": [
    "# 4. Model evaluation"
   ]
  },
  {
   "cell_type": "markdown",
   "execution_count": null,
   "metadata": {},
   "source": [
    "Train the models on the entire training set"
   ]
  },
  {
   "cell_type": "code",
   "execution_count": 30,
   "metadata": {},
   "outputs": [
    {
     "data": {
      "text/plain": [
       "GradientBoostingClassifier(ccp_alpha=0.0, criterion='friedman_mse', init=None,\n",
       "                           learning_rate=0.03, loss='deviance', max_depth=3,\n",
       "                           max_features=None, max_leaf_nodes=None,\n",
       "                           min_impurity_decrease=0.0, min_impurity_split=None,\n",
       "                           min_samples_leaf=1, min_samples_split=2,\n",
       "                           min_weight_fraction_leaf=0.0, n_estimators=200,\n",
       "                           n_iter_no_change=None, presort='deprecated',\n",
       "                           random_state=None, subsample=1.0, tol=0.0001,\n",
       "                           validation_fraction=0.1, verbose=0,\n",
       "                           warm_start=False)"
      ]
     },
     "execution_count": 30,
     "metadata": {},
     "output_type": "execute_result"
    }
   ],
   "source": [
    "random_forest.fit(X_train, y_train)\n",
    "logistic_regression.fit(X_train, y_train)\n",
    "support_vector_machine.fit(X_train, y_train)\n",
    "naive_bayes.fit(X_train, y_train)\n",
    "gradient_boosting.fit(X_train, y_train)"
   ]
  },
  {
   "cell_type": "markdown",
   "execution_count": null,
   "metadata": {},
   "source": [
    "## 4.1 Random forest"
   ]
  },
  {
   "cell_type": "code",
   "execution_count": 31,
   "metadata": {},
   "outputs": [
    {
     "data": {
      "image/png": "[encoded data removed]",
      "text/plain": [
       "<Figure size 576x432 with 1 Axes>"
      ]
     },
     "metadata": {},
     "output_type": "display_data"
    }
   ],
   "source": [
    "feature_importance = pd.DataFrame({'Feature': X_train.columns, 'Relative Importance': random_forest.feature_importances_})\n",
    "# Sort by absolute coefficient values and calculate relative importance\n",
    "feature_importance = feature_importance.iloc[\n",
    "    feature_importance['Relative Importance'].abs().argsort()[::-1]].reset_index(drop=True)\n",
    "\n",
    "plt.figure(figsize=(8, 6))\n",
    "plt.style.use('seaborn-darkgrid')\n",
    "plt.bar(feature_importance['Feature'], feature_importance['Relative Importance'], edgecolor='black')\n",
    "plt.title('Feature importance (Random forest)', fontsize=16), plt.ylabel('Relative importance', fontsize=16)\n",
    "if len(list(feature_importance['Relative Importance'])) < 15:\n",
    "    for i, v in enumerate(np.around(np.array(feature_importance['Relative Importance']), 4)):\n",
    "        plt.text(i, v + 0.003, str('%.4f' % v), ha='center', fontsize=10)  # Force every value to have 2 decimal places\n",
    "plt.xticks(rotation=45, ha='right'), plt.yticks(fontsize=12)\n",
    "plt.tight_layout()\n",
    "plt.show()"
   ]
  },
  {
   "cell_type": "markdown",
   "execution_count": null,
   "metadata": {},
   "source": [
    "## 4.2 Support vector machine\n",
    "\n",
    "Probabilities for 0 and 1 of the first 10 test set examples:"
   ]
  },
  {
   "cell_type": "code",
   "execution_count": 32,
   "metadata": {
    "scrolled": false
   },
   "outputs": [
    {
     "data": {
      "text/html": [
       "<div>\n",
       "<style scoped>\n",
       "    .dataframe tbody tr th:only-of-type {\n",
       "        vertical-align: middle;\n",
       "    }\n",
       "\n",
       "    .dataframe tbody tr th {\n",
       "        vertical-align: top;\n",
       "    }\n",
       "\n",
       "    .dataframe thead th {\n",
       "        text-align: right;\n",
       "    }\n",
       "</style>\n",
       "<table border=\"1\" class=\"dataframe\">\n",
       "  <thead>\n",
       "    <tr style=\"text-align: right;\">\n",
       "      <th></th>\n",
       "      <th>Survived</th>\n",
       "      <th>Not survived</th>\n",
       "    </tr>\n",
       "  </thead>\n",
       "  <tbody>\n",
       "    <tr>\n",
       "      <th>0</th>\n",
       "      <td>0.826087</td>\n",
       "      <td>0.173913</td>\n",
       "    </tr>\n",
       "    <tr>\n",
       "      <th>1</th>\n",
       "      <td>0.562500</td>\n",
       "      <td>0.437500</td>\n",
       "    </tr>\n",
       "    <tr>\n",
       "      <th>2</th>\n",
       "      <td>0.836244</td>\n",
       "      <td>0.163756</td>\n",
       "    </tr>\n",
       "    <tr>\n",
       "      <th>3</th>\n",
       "      <td>0.825863</td>\n",
       "      <td>0.174137</td>\n",
       "    </tr>\n",
       "    <tr>\n",
       "      <th>4</th>\n",
       "      <td>0.576650</td>\n",
       "      <td>0.423350</td>\n",
       "    </tr>\n",
       "    <tr>\n",
       "      <th>5</th>\n",
       "      <td>0.827174</td>\n",
       "      <td>0.172826</td>\n",
       "    </tr>\n",
       "    <tr>\n",
       "      <th>6</th>\n",
       "      <td>0.182513</td>\n",
       "      <td>0.817487</td>\n",
       "    </tr>\n",
       "    <tr>\n",
       "      <th>7</th>\n",
       "      <td>0.825835</td>\n",
       "      <td>0.174165</td>\n",
       "    </tr>\n",
       "    <tr>\n",
       "      <th>8</th>\n",
       "      <td>0.173556</td>\n",
       "      <td>0.826444</td>\n",
       "    </tr>\n",
       "    <tr>\n",
       "      <th>9</th>\n",
       "      <td>0.826288</td>\n",
       "      <td>0.173712</td>\n",
       "    </tr>\n",
       "  </tbody>\n",
       "</table>\n",
       "</div>"
      ],
      "text/plain": [
       "   Survived  Not survived\n",
       "0  0.826087      0.173913\n",
       "1  0.562500      0.437500\n",
       "2  0.836244      0.163756\n",
       "3  0.825863      0.174137\n",
       "4  0.576650      0.423350\n",
       "5  0.827174      0.172826\n",
       "6  0.182513      0.817487\n",
       "7  0.825835      0.174165\n",
       "8  0.173556      0.826444\n",
       "9  0.826288      0.173712"
      ]
     },
     "execution_count": 32,
     "metadata": {},
     "output_type": "execute_result"
    }
   ],
   "source": [
    "probability = support_vector_machine.predict_proba(X_test[:10])\n",
    "pd.DataFrame({'Survived': probability[:, 0], 'Not survived': probability[:, 1]})"
   ]
  },
  {
   "cell_type": "markdown",
   "execution_count": null,
   "metadata": {},
   "source": [
    "## 4.3 Logistic regression"
   ]
  },
  {
   "cell_type": "code",
   "execution_count": 33,
   "metadata": {},
   "outputs": [
    {
     "name": "stdout",
     "output_type": "stream",
     "text": [
      "Result: At the best regularization parameter 1048.11313 Logistic regression set 0 of the 26 features equal to zero.\n"
     ]
    },
    {
     "data": {
      "text/plain": [
       "Sex                0.167420\n",
       "Age                1.936987\n",
       "Age^2              7.981194\n",
       "Age Fare           2.839550\n",
       "Fare^2            22.242476\n",
       "Age^3              4.295234\n",
       "Age^2 Fare         1.417285\n",
       "Age Fare^2         4.453993\n",
       "Fare^3            21.651354\n",
       "Pclass             2.645604\n",
       "Embarked_C         2.366376\n",
       "Embarked_Q         2.464093\n",
       "Embarked_S         2.942141\n",
       "Title_Master       0.000001\n",
       "Title_Miss         0.099295\n",
       "Title_Mr           2.581223\n",
       "Title_Mrs          0.532443\n",
       "Ttype_A            0.341442\n",
       "Ttype_CA           0.289987\n",
       "Ttype_FC           0.434411\n",
       "Ttype_Other        0.086033\n",
       "Ttype_PP           2.129157\n",
       "Ttype_SC           0.191552\n",
       "Ttype_SOTON        0.600011\n",
       "Ttype_Standard     0.025551\n",
       "Ttype_WC           1.876400\n",
       "dtype: float64"
      ]
     },
     "execution_count": 33,
     "metadata": {},
     "output_type": "execute_result"
    }
   ],
   "source": [
    "best_parameter = str(np.around(logistic_regression.C_, 5)).lstrip('[').rstrip(']')\n",
    "scores_logistic_regression = pd.DataFrame(logistic_regression.scores_[1])\n",
    "best_coefficients = pd.Series(list(logistic_regression.coef_.flat), index=X_train.columns)\n",
    "\n",
    "print('Result: At the best regularization parameter', best_parameter,\n",
    "      'Logistic regression set', sum(best_coefficients.values == 0), 'of the', len(best_coefficients),\n",
    "      'features equal to zero.')\n",
    "\n",
    "best_coefficients.abs()"
   ]
  },
  {
   "cell_type": "markdown",
   "execution_count": null,
   "metadata": {},
   "source": [
    "## 4.4 Predict survival\n",
    "\n",
    "Although the random forest achieves the highest validation score, the support vetor machine turned out to perform best on the test data and is thus used to predict survival."
   ]
  },
  {
   "cell_type": "code",
   "execution_count": 34,
   "metadata": {
    "scrolled": false
   },
   "outputs": [],
   "source": [
    "# Make random forest predictions\n",
    "prediction_random_forest = pd.DataFrame({'PassengerId': test['PassengerId'], 'Survived': random_forest.predict(X_test)})\n",
    "prediction_random_forest.to_csv('titanic_random_forest.csv', index=False)\n",
    "\n",
    "# Make logistic regression predictions\n",
    "prediction_logistic_regression = pd.DataFrame({'PassengerId': test['PassengerId'], 'Survived': logistic_regression.predict(X_test)})\n",
    "prediction_logistic_regression.to_csv('titanic_logistic_regression.csv', index=False)\n",
    "\n",
    "# Make support vector machine predictions\n",
    "prediction_support_vector_machine = pd.DataFrame({'PassengerId': test['PassengerId'], 'Survived': support_vector_machine.predict(X_test)})\n",
    "prediction_support_vector_machine.to_csv('titanic_support_vector_machine.csv', index=False)"
   ]
  }
 ],
 "metadata": {
  "kernelspec": {
   "display_name": "Python 3",
   "language": "python",
   "name": "python3"
  },
  "language_info": {
   "codemirror_mode": {
    "name": "ipython",
    "version": 3
   },
   "file_extension": ".py",
   "mimetype": "text/x-python",
   "name": "python",
   "nbconvert_exporter": "python",
   "pygments_lexer": "ipython3",
   "version": "3.7.6"
  }
 },
 "nbformat": 4,
 "nbformat_minor": 4
}
